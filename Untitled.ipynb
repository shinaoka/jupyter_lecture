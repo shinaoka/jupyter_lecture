{
 "cells": [
  {
   "cell_type": "code",
   "execution_count": 4,
   "metadata": {},
   "outputs": [],
   "source": [
    "import irbasis\n",
    "import numpy as np"
   ]
  },
  {
   "cell_type": "code",
   "execution_count": 59,
   "metadata": {},
   "outputs": [
    {
     "data": {
      "text/plain": [
       "array([[-1.52555695,  0.17110933,  2.30683343,  1.6257606 ],\n",
       "       [ 0.17110933,  1.27760899,  2.13746247, -1.46846216],\n",
       "       [ 2.30683343,  2.13746247,  1.26498704,  0.42862836],\n",
       "       [ 1.6257606 , -1.46846216,  0.42862836, -0.78782492]])"
      ]
     },
     "execution_count": 59,
     "metadata": {},
     "output_type": "execute_result"
    }
   ],
   "source": [
    "import numpy as np\n",
    "from scipy.linalg import logm, expm\n",
    "N = 4\n",
    "tmp = np.random.randn(N, N)\n",
    "h = tmp + tmp.T\n",
    "h"
   ]
  },
  {
   "cell_type": "code",
   "execution_count": 20,
   "metadata": {},
   "outputs": [],
   "source": [
    "import numpy\n",
    "\n",
    "def _Rmx(m, x):\n",
    "    return _Pmx(m, x) @ numpy.linalg.inv(_Qmx(m, x))\n",
    "\n",
    "def _Pmx(m, x):\n",
    "    if m == 0:\n",
    "        return numpy.zeros_like(x)\n",
    "    elif m == 1:\n",
    "        return 2 * x\n",
    "    mp = m-1\n",
    "    return _Pmx(m-1, x) - (mp**2/(4*mp**2-1)) * (x**2) * _Pmx(m-2, x)\n",
    "\n",
    "def _Qmx(m, x):\n",
    "    if m <= 1:\n",
    "        return numpy.ones_like(x)\n",
    "    mp = m-1\n",
    "    return _Qmx(m-1, x) - (mp**2/(4*mp**2-1)) * (x**2) * _Qmx(m-2, x)\n",
    "\n",
    "numpy.random.seed(100)\n",
    "N = 4\n"
   ]
  },
  {
   "cell_type": "code",
   "execution_count": 7,
   "metadata": {},
   "outputs": [],
   "source": [
    "u, V = np.linalg.eig(U)"
   ]
  },
  {
   "cell_type": "code",
   "execution_count": 54,
   "metadata": {},
   "outputs": [
    {
     "data": {
      "text/plain": [
       "17.0162"
      ]
     },
     "execution_count": 54,
     "metadata": {},
     "output_type": "execute_result"
    }
   ],
   "source": [
    "((15+3.3333+1.1829)*12 - 2 * 15)/12"
   ]
  },
  {
   "cell_type": "code",
   "execution_count": 11,
   "metadata": {},
   "outputs": [],
   "source": [
    "r = 1.05**(1/12)"
   ]
  },
  {
   "cell_type": "code",
   "execution_count": 12,
   "metadata": {},
   "outputs": [
    {
     "name": "stdout",
     "output_type": "stream",
     "text": [
      "0 2380.0\n",
      "1 2409.696414605083\n",
      "2 2439.513816079198\n",
      "3 2469.452697337825\n",
      "4 2499.5135533046437\n",
      "5 2529.6968809197133\n",
      "6 2560.0031791476895\n",
      "7 2590.4329489860706\n",
      "8 2620.986693473481\n",
      "9 2651.664917697987\n",
      "10 2682.4681288054467\n",
      "11 2713.3968360078916\n"
     ]
    },
    {
     "data": {
      "text/plain": [
       "2744.4515505919476"
      ]
     },
     "execution_count": 12,
     "metadata": {},
     "output_type": "execute_result"
    }
   ],
   "source": [
    "x = 2500.0\n",
    "x -= 120.0\n",
    "\n",
    "for m in range(12):\n",
    "    print(m, x)\n",
    "    x *= r\n",
    "    x += 20\n",
    "x"
   ]
  },
  {
   "cell_type": "code",
   "execution_count": 16,
   "metadata": {},
   "outputs": [
    {
     "name": "stdout",
     "output_type": "stream",
     "text": [
      "0 2500.0\n",
      "1 2530.185309459121\n",
      "2 2560.493597605426\n",
      "3 2590.92536546931\n",
      "4 2621.481116122426\n",
      "5 2652.1613546860053\n",
      "6 2682.9665883392045\n",
      "7 2713.897326327491\n",
      "8 2744.9540799710617\n",
      "9 2776.1373626732943\n",
      "10 2807.4476899292363\n",
      "11 2838.8855793341254\n"
     ]
    },
    {
     "data": {
      "text/plain": [
       "2750.4515505919467"
      ]
     },
     "execution_count": 16,
     "metadata": {},
     "output_type": "execute_result"
    }
   ],
   "source": [
    "x = 2500.0\n",
    "r = 1.05**(1/12)\n",
    "for m in range(12):\n",
    "    print(m, x)\n",
    "    x *= r\n",
    "    x += 20\n",
    "x -= 120\n",
    "x"
   ]
  },
  {
   "cell_type": "code",
   "execution_count": 100,
   "metadata": {},
   "outputs": [],
   "source": [
    "x0 = 2000\n",
    "x = 2450\n",
    "\n",
    "dx = 17\n",
    "r = 1.05**(1/12)\n",
    "xs = []\n",
    "num_years = 60-39\n",
    "for m in range(12):\n",
    "    xs.append(x)\n",
    "    x *= r\n",
    "    x += dx\n",
    "    x0 += dx\n",
    "\n",
    "x = (x-x0)*0.8 + x0\n",
    "\n",
    "for m in range(12*num_years):\n",
    "    xs.append(x)\n",
    "    x *= r\n",
    "    x += dx\n",
    "    x0 += dx"
   ]
  },
  {
   "cell_type": "code",
   "execution_count": 101,
   "metadata": {},
   "outputs": [
    {
     "data": {
      "text/plain": [
       "[<matplotlib.lines.Line2D at 0x142bc0f10>]"
      ]
     },
     "execution_count": 101,
     "metadata": {},
     "output_type": "execute_result"
    },
    {
     "data": {
      "image/png": "[encoded data removed]",
      "text/plain": [
       "<Figure size 432x288 with 1 Axes>"
      ]
     },
     "metadata": {
      "needs_background": "light"
     },
     "output_type": "display_data"
    }
   ],
   "source": [
    "from matplotlib import pylab as plt\n",
    "\n",
    "xs = np.asarray(xs)\n",
    "ms = np.arange(len(xs))\n",
    "plt.plot(ms/12, xs)\n",
    "#plt.ylim([0,None])"
   ]
  },
  {
   "cell_type": "code",
   "execution_count": 91,
   "metadata": {},
   "outputs": [
    {
     "data": {
      "text/plain": [
       "5.7434911729132585"
      ]
     },
     "execution_count": 91,
     "metadata": {},
     "output_type": "execute_result"
    }
   ],
   "source": [
    "1.06**30"
   ]
  },
  {
   "cell_type": "code",
   "execution_count": null,
   "metadata": {},
   "outputs": [],
   "source": []
  }
 ],
 "metadata": {
  "kernelspec": {
   "display_name": "Python 3",
   "language": "python",
   "name": "python3"
  },
  "language_info": {
   "codemirror_mode": {
    "name": "ipython",
    "version": 3
   },
   "file_extension": ".py",
   "mimetype": "text/x-python",
   "name": "python",
   "nbconvert_exporter": "python",
   "pygments_lexer": "ipython3",
   "version": "3.9.0"
  }
 },
 "nbformat": 4,
 "nbformat_minor": 4
}
