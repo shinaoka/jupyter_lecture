{
 "cells": [
  {
   "cell_type": "code",
   "execution_count": 6,
   "metadata": {},
   "outputs": [
    {
     "name": "stdout",
     "output_type": "stream",
     "text": [
      "1.0\n"
     ]
    },
    {
     "name": "stderr",
     "output_type": "stream",
     "text": [
      "WARNING: replacing module my.\n"
     ]
    },
    {
     "data": {
      "text/plain": [
       "Main.my.Point(4.0, 6.0)"
      ]
     },
     "execution_count": 6,
     "metadata": {},
     "output_type": "execute_result"
    }
   ],
   "source": [
    "module my\n",
    "\n",
    "struct Point\n",
    "  x::Float64\n",
    "  y::Float64\n",
    "end\n",
    "\n",
    "end\n",
    "\n",
    "p = my.Point(1, 2)\n",
    "println(p.x)\n",
    "\n",
    "import Base.+\n",
    "\n",
    "function +(p::my.Point, p2::Tuple{Float64,Float64})\n",
    "  my.Point(p.x+p2[1], p.y+p2[2])\n",
    "end\n",
    "\n",
    "my.Point(1.0, 2.0) + (3.0, 4.0)"
   ]
  },
  {
   "cell_type": "code",
   "execution_count": null,
   "metadata": {},
   "outputs": [],
   "source": []
  },
  {
   "cell_type": "code",
   "execution_count": 18,
   "metadata": {},
   "outputs": [],
   "source": []
  }
 ],
 "metadata": {
  "kernelspec": {
   "display_name": "Julia 1.7.1",
   "language": "julia",
   "name": "julia-1.7"
  },
  "language_info": {
   "file_extension": ".jl",
   "mimetype": "application/julia",
   "name": "julia",
   "version": "1.7.2"
  },
  "orig_nbformat": 4
 },
 "nbformat": 4,
 "nbformat_minor": 2
}
