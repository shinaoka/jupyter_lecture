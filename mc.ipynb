{
 "cells": [
  {
   "cell_type": "code",
   "execution_count": 3,
   "metadata": {},
   "outputs": [
    {
     "name": "stdout",
     "output_type": "stream",
     "text": [
      "\u001b[32m\u001b[1m Resolving\u001b[22m\u001b[39m package versions...\n",
      "\u001b[32m\u001b[1m  Updating\u001b[22m\u001b[39m `~/.julia/environments/v1.3/Project.toml`\n",
      "\u001b[90m [no changes]\u001b[39m\n",
      "\u001b[32m\u001b[1m  Updating\u001b[22m\u001b[39m `~/.julia/environments/v1.3/Manifest.toml`\n",
      "\u001b[90m [no changes]\u001b[39m\n",
      "\u001b[32m\u001b[1m Resolving\u001b[22m\u001b[39m package versions...\n",
      "\u001b[32m\u001b[1m  Updating\u001b[22m\u001b[39m `~/.julia/environments/v1.3/Project.toml`\n",
      " \u001b[90m [6e4b80f9]\u001b[39m\u001b[92m + BenchmarkTools v0.4.3\u001b[39m\n",
      "\u001b[32m\u001b[1m  Updating\u001b[22m\u001b[39m `~/.julia/environments/v1.3/Manifest.toml`\n",
      "\u001b[90m [no changes]\u001b[39m\n"
     ]
    },
    {
     "name": "stderr",
     "output_type": "stream",
     "text": [
      "┌ Info: Precompiling BenchmarkTools [6e4b80f9-dd63-53aa-95a3-0cdb28fa8baf]\n",
      "└ @ Base loading.jl:1273\n"
     ]
    }
   ],
   "source": [
    "import Pkg\n",
    "Pkg.add(\"EllipsisNotation\")\n",
    "Pkg.add(\"BenchmarkTools\")\n",
    "\n",
    "using Random\n",
    "using EllipsisNotation\n",
    "using BenchmarkTools\n",
    "\n",
    "# Create random number generator\n",
    "seed = 1234;\n",
    "Random.seed!(seed);"
   ]
  },
  {
   "cell_type": "code",
   "execution_count": null,
   "metadata": {},
   "outputs": [],
   "source": []
  },
  {
   "cell_type": "code",
   "execution_count": 4,
   "metadata": {},
   "outputs": [
    {
     "data": {
      "text/plain": [
       "BenchmarkTools.Trial: \n",
       "  memory estimate:  160 bytes\n",
       "  allocs estimate:  3\n",
       "  --------------\n",
       "  minimum time:     266.921 ns (0.00% GC)\n",
       "  median time:      272.239 ns (0.00% GC)\n",
       "  mean time:        304.758 ns (3.46% GC)\n",
       "  maximum time:     12.797 μs (95.92% GC)\n",
       "  --------------\n",
       "  samples:          10000\n",
       "  evals/sample:     318"
      ]
     },
     "execution_count": 4,
     "metadata": {},
     "output_type": "execute_result"
    }
   ],
   "source": [
    "N = 3\n",
    "x = rand(N)\n",
    "y = rand(N)\n",
    "@benchmark x .+ y"
   ]
  },
  {
   "cell_type": "code",
   "execution_count": 7,
   "metadata": {},
   "outputs": [
    {
     "data": {
      "text/plain": [
       "BenchmarkTools.Trial: \n",
       "  memory estimate:  112 bytes\n",
       "  allocs estimate:  1\n",
       "  --------------\n",
       "  minimum time:     53.353 ns (0.00% GC)\n",
       "  median time:      68.394 ns (0.00% GC)\n",
       "  mean time:        95.371 ns (19.19% GC)\n",
       "  maximum time:     75.857 μs (99.79% GC)\n",
       "  --------------\n",
       "  samples:          10000\n",
       "  evals/sample:     984"
      ]
     },
     "execution_count": 7,
     "metadata": {},
     "output_type": "execute_result"
    }
   ],
   "source": [
    "@benchmark x + y"
   ]
  },
  {
   "cell_type": "code",
   "execution_count": 10,
   "metadata": {},
   "outputs": [
    {
     "data": {
      "text/plain": [
       "2"
      ]
     },
     "execution_count": 10,
     "metadata": {},
     "output_type": "execute_result"
    }
   ],
   "source": [
    "div(5, 2)"
   ]
  },
  {
   "cell_type": "code",
   "execution_count": 5,
   "metadata": {},
   "outputs": [
    {
     "name": "stdout",
     "output_type": "stream",
     "text": [
      "UInt64\n",
      "426703\n"
     ]
    }
   ],
   "source": [
    "t1 = time_ns()\n",
    "t2 = time_ns()\n",
    "println(typeof(t1))\n",
    "println(t2-t1)"
   ]
  },
  {
   "cell_type": "code",
   "execution_count": 6,
   "metadata": {},
   "outputs": [
    {
     "ename": "DimensionMismatch",
     "evalue": "DimensionMismatch(\"new dimensions (-1,) must be consistent with array size 6\")",
     "output_type": "error",
     "traceback": [
      "DimensionMismatch(\"new dimensions (-1,) must be consistent with array size 6\")",
      "",
      "Stacktrace:",
      " [1] (::Base.var\"#throw_dmrsa#197\")(::Tuple{Int64}, ::Int64) at ./reshapedarray.jl:41",
      " [2] reshape at ./reshapedarray.jl:45 [inlined]",
      " [3] reshape(::Array{Float64,2}, ::Int64) at ./reshapedarray.jl:116",
      " [4] top-level scope at In[6]:2"
     ]
    }
   ],
   "source": [
    "a = ones(Float64, 2, 3)\n",
    "reshape(a, -1)"
   ]
  },
  {
   "cell_type": "code",
   "execution_count": 9,
   "metadata": {},
   "outputs": [
    {
     "data": {
      "text/plain": [
       "(1, 2)"
      ]
     },
     "execution_count": 9,
     "metadata": {},
     "output_type": "execute_result"
    }
   ],
   "source": [
    "x = (1,)\n",
    "y = (2,)\n",
    "(x..., y...)"
   ]
  },
  {
   "cell_type": "code",
   "execution_count": 36,
   "metadata": {},
   "outputs": [
    {
     "data": {
      "text/plain": [
       "Array{Float64,1}"
      ]
     },
     "execution_count": 36,
     "metadata": {},
     "output_type": "execute_result"
    }
   ],
   "source": [
    "data_type = typeof(a[1]) "
   ]
  },
  {
   "cell_type": "code",
   "execution_count": null,
   "metadata": {},
   "outputs": [],
   "source": [
    "Array{data_type}"
   ]
  },
  {
   "cell_type": "code",
   "execution_count": 33,
   "metadata": {},
   "outputs": [
    {
     "data": {
      "text/plain": [
       "Array{Array{Float64,N} where N,1}"
      ]
     },
     "execution_count": 33,
     "metadata": {},
     "output_type": "execute_result"
    }
   ],
   "source": [
    "Array{Array{Float64},1}"
   ]
  },
  {
   "cell_type": "code",
   "execution_count": 26,
   "metadata": {},
   "outputs": [
    {
     "data": {
      "text/plain": [
       "Array{Float64,1}"
      ]
     },
     "execution_count": 26,
     "metadata": {},
     "output_type": "execute_result"
    }
   ],
   "source": [
    "Array{typeof(a[1])"
   ]
  },
  {
   "cell_type": "code",
   "execution_count": 4,
   "metadata": {},
   "outputs": [],
   "source": [
    "for i in 1:4\n",
    "    a[i] = i * ones(Float64, 2)\n",
    "end"
   ]
  },
  {
   "cell_type": "code",
   "execution_count": 14,
   "metadata": {},
   "outputs": [
    {
     "data": {
      "text/plain": [
       "8-element Array{Float64,1}:\n",
       " 1.0\n",
       " 1.0\n",
       " 2.0\n",
       " 2.0\n",
       " 3.0\n",
       " 3.0\n",
       " 4.0\n",
       " 4.0"
      ]
     },
     "execution_count": 14,
     "metadata": {},
     "output_type": "execute_result"
    }
   ],
   "source": [
    "aa = collect(Iterators.flatten(a))"
   ]
  },
  {
   "cell_type": "code",
   "execution_count": 47,
   "metadata": {},
   "outputs": [
    {
     "data": {
      "text/plain": [
       "false"
      ]
     },
     "execution_count": 47,
     "metadata": {},
     "output_type": "execute_result"
    }
   ],
   "source": [
    "Float64 <: AbstractArray"
   ]
  },
  {
   "cell_type": "code",
   "execution_count": 51,
   "metadata": {},
   "outputs": [
    {
     "data": {
      "text/plain": [
       "(2,)"
      ]
     },
     "execution_count": 51,
     "metadata": {},
     "output_type": "execute_result"
    }
   ],
   "source": [
    "a = Array{Float64,1}[[1.0, 1.0], [1.0, 1.0]]\n",
    "size(a[1])"
   ]
  },
  {
   "cell_type": "code",
   "execution_count": 52,
   "metadata": {},
   "outputs": [
    {
     "data": {
      "text/plain": [
       "4-element Array{Float64,1}:\n",
       " 1.0\n",
       " 1.0\n",
       " 1.0\n",
       " 1.0"
      ]
     },
     "execution_count": 52,
     "metadata": {},
     "output_type": "execute_result"
    }
   ],
   "source": [
    " collect(Iterators.flatten(a))"
   ]
  },
  {
   "cell_type": "code",
   "execution_count": 5,
   "metadata": {},
   "outputs": [
    {
     "data": {
      "text/plain": [
       "10-element Array{Array{Float64,1},1}:\n",
       " [-1.0, -1.0]\n",
       " [0.0, 0.0]  \n",
       " [0.0, 0.0]  \n",
       " [0.0, 0.0]  \n",
       " [0.0, 0.0]  \n",
       " [0.0, 0.0]  \n",
       " [0.0, 0.0]  \n",
       " [0.0, 0.0]  \n",
       " [0.0, 0.0]  \n",
       " [0.0, 0.0]  "
      ]
     },
     "execution_count": 5,
     "metadata": {},
     "output_type": "execute_result"
    }
   ],
   "source": [
    "N = 2\n",
    "a = [zeros(Float64, N) for i in 1:10]\n",
    "a[1][:] .= -1\n",
    "a"
   ]
  },
  {
   "cell_type": "code",
   "execution_count": 6,
   "metadata": {},
   "outputs": [
    {
     "ename": "UndefVarError",
     "evalue": "UndefVarError: int not defined",
     "output_type": "error",
     "traceback": [
      "UndefVarError: int not defined",
      "",
      "Stacktrace:",
      " [1] top-level scope at In[6]:1"
     ]
    }
   ],
   "source": [
    "trunc(int,ceil(123/10))"
   ]
  },
  {
   "cell_type": "code",
   "execution_count": 7,
   "metadata": {},
   "outputs": [
    {
     "data": {
      "text/plain": [
       "true"
      ]
     },
     "execution_count": 7,
     "metadata": {},
     "output_type": "execute_result"
    }
   ],
   "source": [
    "all([0, 0] .< [1, 1])"
   ]
  },
  {
   "cell_type": "code",
   "execution_count": 8,
   "metadata": {},
   "outputs": [
    {
     "data": {
      "text/plain": [
       "10-element Array{Set{Int8},1}:\n",
       " Set([])\n",
       " Set([])\n",
       " Set([])\n",
       " Set([])\n",
       " Set([])\n",
       " Set([])\n",
       " Set([])\n",
       " Set([])\n",
       " Set([])\n",
       " Set([])"
      ]
     },
     "execution_count": 8,
     "metadata": {},
     "output_type": "execute_result"
    }
   ],
   "source": [
    "a = [Set{Int8}() for _ in 1:10]"
   ]
  },
  {
   "cell_type": "code",
   "execution_count": 9,
   "metadata": {},
   "outputs": [
    {
     "data": {
      "text/plain": [
       "3"
      ]
     },
     "execution_count": 9,
     "metadata": {},
     "output_type": "execute_result"
    }
   ],
   "source": [
    "trunc(Int, 10/3)"
   ]
  },
  {
   "cell_type": "code",
   "execution_count": 10,
   "metadata": {},
   "outputs": [
    {
     "data": {
      "text/plain": [
       "Set(Int8[4, 3, 1])"
      ]
     },
     "execution_count": 10,
     "metadata": {},
     "output_type": "execute_result"
    }
   ],
   "source": [
    "a = Set{Int8}([1, 3, 4])"
   ]
  },
  {
   "cell_type": "code",
   "execution_count": 11,
   "metadata": {},
   "outputs": [
    {
     "data": {
      "text/plain": [
       "2-element Array{Float64,1}:\n",
       " 0.1\n",
       " 0.2"
      ]
     },
     "execution_count": 11,
     "metadata": {},
     "output_type": "execute_result"
    }
   ],
   "source": [
    "a = [0.1, 0.2]"
   ]
  },
  {
   "cell_type": "code",
   "execution_count": 12,
   "metadata": {},
   "outputs": [
    {
     "data": {
      "text/plain": [
       "2-element Array{Float64,1}:\n",
       " 0.00010000000000000002\n",
       " 0.0016000000000000003 "
      ]
     },
     "execution_count": 12,
     "metadata": {},
     "output_type": "execute_result"
    }
   ],
   "source": [
    "a .^ 4"
   ]
  },
  {
   "cell_type": "code",
   "execution_count": 13,
   "metadata": {},
   "outputs": [
    {
     "name": "stdout",
     "output_type": "stream",
     "text": [
      "\u001b[91m\u001b[1mTest Failed\u001b[22m\u001b[39m at \u001b[39m\u001b[1mIn[13]:2\u001b[22m\n",
      "  Expression: 1 == -1\n",
      "   Evaluated: 1 == -1\n"
     ]
    },
    {
     "ename": "Test.FallbackTestSetException",
     "evalue": "There was an error during testing",
     "output_type": "error",
     "traceback": [
      "There was an error during testing",
      "",
      "Stacktrace:",
      " [1] record(::Test.FallbackTestSet, ::Test.Fail) at /buildworker/worker/package_linux64/build/usr/share/julia/stdlib/v1.0/Test/src/Test.jl:707",
      " [2] do_test(::Test.Returned, ::Expr) at /buildworker/worker/package_linux64/build/usr/share/julia/stdlib/v1.0/Test/src/Test.jl:496",
      " [3] top-level scope at In[13]:2"
     ]
    }
   ],
   "source": [
    "using Test\n",
    "@test 1==-1"
   ]
  },
  {
   "cell_type": "code",
   "execution_count": 14,
   "metadata": {},
   "outputs": [
    {
     "ename": "UndefVarError",
     "evalue": "UndefVarError: b not defined",
     "output_type": "error",
     "traceback": [
      "UndefVarError: b not defined",
      "",
      "Stacktrace:",
      " [1] top-level scope at In[14]:1"
     ]
    }
   ],
   "source": [
    "i, j = b[1:end]"
   ]
  },
  {
   "cell_type": "code",
   "execution_count": 15,
   "metadata": {},
   "outputs": [
    {
     "data": {
      "text/plain": [
       "\"A{1+1}\""
      ]
     },
     "execution_count": 15,
     "metadata": {},
     "output_type": "execute_result"
    }
   ],
   "source": [
    "i = 1\n",
    "\"A{$i+1}\""
   ]
  },
  {
   "cell_type": "code",
   "execution_count": 16,
   "metadata": {},
   "outputs": [
    {
     "data": {
      "text/plain": [
       "0-element Array{Any,1}"
      ]
     },
     "execution_count": 16,
     "metadata": {},
     "output_type": "execute_result"
    }
   ],
   "source": [
    "a = []\n"
   ]
  },
  {
   "cell_type": "code",
   "execution_count": 17,
   "metadata": {},
   "outputs": [
    {
     "name": "stdout",
     "output_type": "stream",
     "text": [
      "[-1, 1, 1, 1, -1, -1, -1, 1, -1, 1]\n"
     ]
    }
   ],
   "source": [
    "num_sites = 10\n",
    "num_steps = 100\n",
    "beta = 100.0\n",
    "\n",
    "J = 1.0 # FM\n",
    "#J = -1.0 # AFM\n",
    "\n",
    "spins = rand([-1, 1], num_sites)\n",
    "println(spins)\n",
    "\n",
    "function energy(spins)\n",
    "    ene = 0.0\n",
    "    for isite = 1:num_sites\n",
    "        ene -= spins[isite] * spins[isite+1]\n",
    "    end\n",
    "    return ene * J\n",
    "end\n",
    "\n",
    "# H = - s * h\n",
    "function effective_field(spins, isite)\n",
    "    if isite == 1\n",
    "        return J * spins[1]\n",
    "    elseif isite == length(spins)\n",
    "        return J * spins[isite-1]\n",
    "    else\n",
    "        return J * (spins[isite-1] + spins[isite+1])\n",
    "    end\n",
    "end\n",
    "\n",
    "for step = 1:num_steps\n",
    "    target_site = rand(1:num_sites)\n",
    "    # Eud = E(up) - E(down) = - 2 * h\n",
    "    ene_ud = - 2 * effective_field(spins, target_site)\n",
    "    prob_up = 1/(1 + exp(beta * ene_ud))\n",
    "    if rand() < prob_up\n",
    "        spins[target_site] = 1\n",
    "    else\n",
    "        spins[target_site] = -1\n",
    "    end\n",
    "end"
   ]
  },
  {
   "cell_type": "code",
   "execution_count": 18,
   "metadata": {},
   "outputs": [
    {
     "name": "stdout",
     "output_type": "stream",
     "text": [
      "[-1, -1, -1, -1, -1, -1, -1, -1, -1, -1]\n"
     ]
    }
   ],
   "source": [
    "println(spins)"
   ]
  },
  {
   "cell_type": "code",
   "execution_count": 19,
   "metadata": {},
   "outputs": [],
   "source": [
    "struct SingleSpinFlipUpdater\n",
    "    num_Jij::Int\n",
    "    num_spins::Int\n",
    "    connection::Array{Int,2}\n",
    "    coord_num::Array{Int,2}\n",
    "end"
   ]
  },
  {
   "cell_type": "code",
   "execution_count": 20,
   "metadata": {},
   "outputs": [
    {
     "ename": "TypeError",
     "evalue": "TypeError: in Type{...} expression, expected UnionAll, got Symbol",
     "output_type": "error",
     "traceback": [
      "TypeError: in Type{...} expression, expected UnionAll, got Symbol",
      "",
      "Stacktrace:",
      " [1] top-level scope at In[20]:1"
     ]
    }
   ],
   "source": [
    "function compute_energy(spins:::Array{Int64})\n",
    "    #return -sum([intr[3] * spins[intr[1]] * spins[intr[2]] for intr in model.Jij])\n",
    "    return 0.0\n",
    "end"
   ]
  },
  {
   "cell_type": "code",
   "execution_count": 21,
   "metadata": {},
   "outputs": [
    {
     "ename": "ErrorException",
     "evalue": "invalid redefinition of constant energy",
     "output_type": "error",
     "traceback": [
      "invalid redefinition of constant energy",
      "",
      "Stacktrace:",
      " [1] top-level scope at In[21]:1"
     ]
    }
   ],
   "source": [
    "energy = 0.0\n",
    "println(energy)\n",
    "for i in 1:10\n",
    "    energy += 1.0\n",
    "end"
   ]
  },
  {
   "cell_type": "code",
   "execution_count": 14,
   "metadata": {},
   "outputs": [],
   "source": [
    "function display_percent_bad(x)\n",
    "     if x isa AbstractString\n",
    "        if occursin(r\"^\\d*\\.?\\d+%$\", x)  # any combination of numbers, followed by a percent sign\n",
    "            println(x)\n",
    "        else\n",
    "            throw(DomainError(x, \"Not valid percentage format\"))\n",
    "        end\n",
    "    else\n",
    "        println(100x, \"%\")\n",
    "    end\n",
    "end\n",
    "\n",
    "struct Half\n",
    "end"
   ]
  },
  {
   "cell_type": "code",
   "execution_count": 20,
   "metadata": {},
   "outputs": [],
   "source": [
    "function display_percent_bad(x)\n",
    "    if x isa AbstractString\n",
    "        println(\"X\")\n",
    "    else\n",
    "        println(100x)\n",
    "    end\n",
    "end\n",
    "\n",
    "struct Half\n",
    "end"
   ]
  },
  {
   "cell_type": "code",
   "execution_count": 21,
   "metadata": {},
   "outputs": [
    {
     "name": "stdout",
     "output_type": "stream",
     "text": [
      "X\n",
      "50.0\n"
     ]
    },
    {
     "ename": "MethodError",
     "evalue": "MethodError: no method matching *(::Int64, ::Half)\nClosest candidates are:\n  *(::Any, ::Any, !Matched::Any, !Matched::Any...) at operators.jl:502\n  *(::T<:Union{Int128, Int16, Int32, Int64, Int8, UInt128, UInt16, UInt32, UInt64, UInt8}, !Matched::T<:Union{Int128, Int16, Int32, Int64, Int8, UInt128, UInt16, UInt32, UInt64, UInt8}) where T<:Union{Int128, Int16, Int32, Int64, Int8, UInt128, UInt16, UInt32, UInt64, UInt8} at int.jl:54\n  *(::Union{Int16, Int32, Int64, Int8}, !Matched::BigInt) at gmp.jl:463\n  ...",
     "output_type": "error",
     "traceback": [
      "MethodError: no method matching *(::Int64, ::Half)\nClosest candidates are:\n  *(::Any, ::Any, !Matched::Any, !Matched::Any...) at operators.jl:502\n  *(::T<:Union{Int128, Int16, Int32, Int64, Int8, UInt128, UInt16, UInt32, UInt64, UInt8}, !Matched::T<:Union{Int128, Int16, Int32, Int64, Int8, UInt128, UInt16, UInt32, UInt64, UInt8}) where T<:Union{Int128, Int16, Int32, Int64, Int8, UInt128, UInt16, UInt32, UInt64, UInt8} at int.jl:54\n  *(::Union{Int16, Int32, Int64, Int8}, !Matched::BigInt) at gmp.jl:463\n  ...",
      "",
      "Stacktrace:",
      " [1] display_percent_bad(::Half) at ./In[20]:5",
      " [2] top-level scope at In[21]:3"
     ]
    }
   ],
   "source": [
    "display_percent_bad(\"5.3%\")\n",
    "display_percent_bad(0.5)\n",
    "display_percent_bad(Half())"
   ]
  },
  {
   "cell_type": "code",
   "execution_count": 24,
   "metadata": {},
   "outputs": [
    {
     "data": {
      "text/plain": [
       "true"
      ]
     },
     "execution_count": 24,
     "metadata": {},
     "output_type": "execute_result"
    }
   ],
   "source": [
    "Float64 <: AbstractFloat"
   ]
  },
  {
   "cell_type": "code",
   "execution_count": 26,
   "metadata": {},
   "outputs": [
    {
     "data": {
      "text/plain": [
       "scalarness (generic function with 4 methods)"
      ]
     },
     "execution_count": 26,
     "metadata": {},
     "output_type": "execute_result"
    }
   ],
   "source": [
    "abstract type Scalarness end\n",
    "struct Scalar <: Scalarness end\n",
    "struct NonScalar <: Scalarness end\n",
    "\n",
    "scalarness(::Type) = Scalar() #fall-back, by default everything is scalar\n",
    "scalarness(::Type{<:AbstractArray}) = NonScalar()\n",
    "scalarness(::Type{<:Tuple}) = NonScalar()\n",
    "scalarness(::Type{<:AbstractString}) = NonScalar()"
   ]
  },
  {
   "cell_type": "code",
   "execution_count": 28,
   "metadata": {},
   "outputs": [
    {
     "data": {
      "text/plain": [
       "Scalar()"
      ]
     },
     "execution_count": 28,
     "metadata": {},
     "output_type": "execute_result"
    }
   ],
   "source": [
    "scalarness(typeof(1.0))"
   ]
  },
  {
   "cell_type": "code",
   "execution_count": 30,
   "metadata": {},
   "outputs": [
    {
     "name": "stdout",
     "output_type": "stream",
     "text": [
      "aslist([1, 2, 3]) = [1, 2, 3]\n",
      "aslist(1) = [1]\n",
      "aslist(Set([1, 2])) = Set{Int64}[Set([2, 1])]\n"
     ]
    }
   ],
   "source": [
    "aslist(x::T) where T = aslist(scalarness(T), x)\n",
    "\n",
    "aslist(::Scalar, x) = [x]\n",
    "aslist(::NonScalar, x) = x\n",
    "\n",
    "@show aslist([1,2,3])\n",
    "@show aslist(1);\n",
    "@show aslist(Set([1,2]));"
   ]
  },
  {
   "cell_type": "code",
   "execution_count": 31,
   "metadata": {},
   "outputs": [
    {
     "ename": "UndefVarError",
     "evalue": "UndefVarError: Basic not defined",
     "output_type": "error",
     "traceback": [
      "UndefVarError: Basic not defined",
      "",
      "Stacktrace:",
      " [1] top-level scope at In[31]:1"
     ]
    }
   ],
   "source": [
    "catty = fill(Basic(:🐱), 2, 2)"
   ]
  }
 ],
 "metadata": {
  "kernelspec": {
   "display_name": "Julia 1.3.1",
   "language": "julia",
   "name": "julia-1.3"
  },
  "language_info": {
   "file_extension": ".jl",
   "mimetype": "application/julia",
   "name": "julia",
   "version": "1.3.1"
  }
 },
 "nbformat": 4,
 "nbformat_minor": 2
}
